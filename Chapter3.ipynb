{
 "cells": [
  {
   "cell_type": "markdown",
   "id": "d308dc90-6510-4dc0-900c-b120cf7005d1",
   "metadata": {},
   "source": [
    "# 基本的な質疑応答インターフェイスの作成"
   ]
  },
  {
   "cell_type": "markdown",
   "id": "8ee22f93-0013-498c-9c5a-2548df753d0d",
   "metadata": {},
   "source": [
    "## 必要なライブラリのインポート"
   ]
  },
  {
   "cell_type": "code",
   "execution_count": null,
   "id": "a8562a3c-fc05-4242-ac54-e554d1fe4758",
   "metadata": {
    "scrolled": true
   },
   "outputs": [],
   "source": [
    "!pip install openai"
   ]
  },
  {
   "cell_type": "code",
   "execution_count": null,
   "id": "15f8e025-c904-4c68-98f2-89d69a032bcc",
   "metadata": {},
   "outputs": [],
   "source": [
    "import gradio as gr\n",
    "import openai"
   ]
  },
  {
   "cell_type": "markdown",
   "id": "0347aaf4-3125-447b-8e1e-f825cc8e2a9d",
   "metadata": {},
   "source": [
    "## ChatGPT APIの設定"
   ]
  },
  {
   "cell_type": "code",
   "execution_count": null,
   "id": "40dca6bd-1f4e-43bf-8bae-dec686f47c8b",
   "metadata": {},
   "outputs": [],
   "source": [
    "api_key = \"あなたのAPIキーを入力してください\"\n",
    "openai.api_key = api_key"
   ]
  },
  {
   "cell_type": "markdown",
   "id": "0afcf07e-5d5f-4634-a8fd-dd2f6fb43e3a",
   "metadata": {},
   "source": [
    "## 質疑応答関数の作成"
   ]
  },
  {
   "cell_type": "code",
   "execution_count": null,
   "id": "28a6daac-aca7-4164-8738-a93d9a324a5f",
   "metadata": {},
   "outputs": [],
   "source": [
    "def chat_with_gpt3(question):\n",
    "    model_engine = \"gpt-3.5-turbo\"\n",
    "    messages = [\n",
    "        {\"role\": \"user\", \"content\": question},\n",
    "    ]\n",
    "    \n",
    "    response = openai.ChatCompletion.create(\n",
    "        model=model_engine,\n",
    "        messages=messages\n",
    "    )\n",
    "    \n",
    "    message = response['choices'][0]['message']['content'].strip()\n",
    "    return message"
   ]
  },
  {
   "cell_type": "markdown",
   "id": "ab7c72cb-298f-463b-b982-40fa20abab9d",
   "metadata": {},
   "source": [
    "## Gradioを用いたインターフェイス作成"
   ]
  },
  {
   "cell_type": "code",
   "execution_count": null,
   "id": "970e19f5-6053-4aa2-8891-aa32f4725fcf",
   "metadata": {},
   "outputs": [],
   "source": [
    "iface = gr.Interface(fn=chat_with_gpt3, inputs=\"text\", outputs=\"text\")"
   ]
  },
  {
   "cell_type": "markdown",
   "id": "95fdf5a8-dc95-45e5-8032-85efaa520aea",
   "metadata": {},
   "source": [
    "## 作成したインターフェイスの起動"
   ]
  },
  {
   "cell_type": "code",
   "execution_count": null,
   "id": "393fcde7-ac93-4232-a7fe-0420a21de5ac",
   "metadata": {},
   "outputs": [],
   "source": [
    "iface.launch()"
   ]
  }
 ],
 "metadata": {
  "kernelspec": {
   "display_name": "Python 3 (ipykernel)",
   "language": "python",
   "name": "python3"
  },
  "language_info": {
   "codemirror_mode": {
    "name": "ipython",
    "version": 3
   },
   "file_extension": ".py",
   "mimetype": "text/x-python",
   "name": "python",
   "nbconvert_exporter": "python",
   "pygments_lexer": "ipython3",
   "version": "3.11.5"
  }
 },
 "nbformat": 4,
 "nbformat_minor": 5
}
