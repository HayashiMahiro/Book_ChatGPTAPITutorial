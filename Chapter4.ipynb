{
 "cells": [
  {
   "cell_type": "markdown",
   "id": "14081649-da21-4dcf-b837-3ae066ed165c",
   "metadata": {},
   "source": [
    "# キャラクタベースの履歴保持会話インターフェイス"
   ]
  },
  {
   "cell_type": "code",
   "execution_count": null,
   "id": "864e42a9-052b-4665-8489-4b5b77759c0b",
   "metadata": {},
   "outputs": [],
   "source": [
    "# 必要なライブラリのインポート\n",
    "import gradio as gr\n",
    "import openai\n",
    "\n",
    "# ChatGPT APIの設定\n",
    "api_key = \"あなたのAPIキーを入力してください\"\n",
    "openai.api_key = api_key"
   ]
  },
  {
   "cell_type": "code",
   "execution_count": null,
   "id": "8c003a76-47bd-4ef1-818f-c7071222aae6",
   "metadata": {},
   "outputs": [],
   "source": [
    "# 会話履歴の宣言\n",
    "conversation_history = []\n",
    "\n",
    "# キャラクターとの会話関数の作成\n",
    "def chat_with_character(question, character):\n",
    "    model_engine = \"gpt-3.5-turbo\"\n",
    "    conversation_history.append({\"role\": \"user\", \"content\": question})\n",
    "    \n",
    "    messages = [\n",
    "        {\"role\": \"system\", \"content\": f\"あなたは{character}です。私とフレンドリーに会話してください。\"}\n",
    "    ] + conversation_history\n",
    "    \n",
    "    response = openai.ChatCompletion.create(\n",
    "        model=model_engine,\n",
    "        messages=messages\n",
    "    )\n",
    "    \n",
    "    message = response['choices'][0]['message']['content'].strip()\n",
    "    conversation_history.append({\"role\": \"assistant\", \"content\": message})\n",
    "    \n",
    "    return message"
   ]
  },
  {
   "cell_type": "code",
   "execution_count": null,
   "id": "7fe23b4b-81d5-43b6-b681-383de3eea64c",
   "metadata": {},
   "outputs": [],
   "source": [
    "# Gradioによるインターフェイスの作成\n",
    "iface = gr.Interface(\n",
    "    fn=chat_with_character,\n",
    "    inputs=[\"text\", gr.components.Dropdown(label=\"Character\", choices=[\"ドラキュラ\", \"オオカミ男\", \"フランケン\"])],\n",
    "    outputs=\"text\"\n",
    ")"
   ]
  },
  {
   "cell_type": "code",
   "execution_count": null,
   "id": "bed032fb-36f6-45fa-9c30-4730cc7a71f1",
   "metadata": {},
   "outputs": [],
   "source": [
    "# インターフェイス起動（+会話履歴のリセット）\n",
    "conversation_history = []\n",
    "iface.launch()"
   ]
  }
 ],
 "metadata": {
  "kernelspec": {
   "display_name": "Python 3 (ipykernel)",
   "language": "python",
   "name": "python3"
  },
  "language_info": {
   "codemirror_mode": {
    "name": "ipython",
    "version": 3
   },
   "file_extension": ".py",
   "mimetype": "text/x-python",
   "name": "python",
   "nbconvert_exporter": "python",
   "pygments_lexer": "ipython3",
   "version": "3.11.5"
  }
 },
 "nbformat": 4,
 "nbformat_minor": 5
}
