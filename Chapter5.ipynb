{
 "cells": [
  {
   "cell_type": "markdown",
   "id": "53de9535-251c-4f44-83a8-149d0c660b0f",
   "metadata": {},
   "source": [
    "# 自社オリジナルチャットボット"
   ]
  },
  {
   "cell_type": "code",
   "execution_count": null,
   "id": "df5deed7-fe96-4dc3-b448-a40e3869c56b",
   "metadata": {},
   "outputs": [],
   "source": [
    "# 必要なライブラリのインポート\n",
    "import gradio as gr\n",
    "import openai\n",
    "\n",
    "# ChatGPT APIの設定\n",
    "api_key = \"あなたのAPIキーを入力してください\"\n",
    "openai.api_key = api_key\n",
    "\n",
    "# チャットボットに渡す事前知識ファイルのインポート\n",
    "with open(r\"事前知識ファイルのパス\", 'r', encoding='utf-8') as file:\n",
    "    pre_infomation = file.read()\n",
    "\n",
    "# チャットボット返答関数の作成\n",
    "conversation_history = []\n",
    "\n",
    "def original_chatbot(input, history):\n",
    "    model_engine = \"gpt-3.5-turbo\"\n",
    "    conversation_history.append({\"role\": \"user\", \"content\": input})\n",
    "    \n",
    "    messages = [\n",
    "        {\"role\": \"system\", \"content\": f\"{pre_infomation}\"}\n",
    "    ] + conversation_history\n",
    "    \n",
    "    response = openai.ChatCompletion.create(\n",
    "        model=model_engine,\n",
    "        messages=messages\n",
    "    )\n",
    "    \n",
    "    message = response['choices'][0]['message']['content'].strip()\n",
    "    conversation_history.append({\"role\": \"assistant\", \"content\": message})\n",
    "    \n",
    "    return message\n",
    "\n",
    "# Gradioを用いたインターフェイスの作成\n",
    "iface = gr.ChatInterface(original_chatbot)\n",
    "\n",
    "# 作成したインターフェイスの起動\n",
    "conversation_history = []\n",
    "iface.launch()"
   ]
  }
 ],
 "metadata": {
  "kernelspec": {
   "display_name": "Python 3 (ipykernel)",
   "language": "python",
   "name": "python3"
  },
  "language_info": {
   "codemirror_mode": {
    "name": "ipython",
    "version": 3
   },
   "file_extension": ".py",
   "mimetype": "text/x-python",
   "name": "python",
   "nbconvert_exporter": "python",
   "pygments_lexer": "ipython3",
   "version": "3.11.5"
  }
 },
 "nbformat": 4,
 "nbformat_minor": 5
}
